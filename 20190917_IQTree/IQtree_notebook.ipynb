{
 "cells": [
  {
   "cell_type": "markdown",
   "metadata": {},
   "source": [
    "# 20190917 Maximum likelihood with IQtree on the UH cluster"
   ]
  },
  {
   "cell_type": "markdown",
   "metadata": {},
   "source": [
    "Consider: what is ML and difference with MP and Bayesian?\n",
    "What type of settings do we want to configure during a ML analysis?"
   ]
  },
  {
   "cell_type": "markdown",
   "metadata": {},
   "source": [
    "Files required:\n",
    "- Phylip formatted alignment\n",
    "- Slurm script\n",
    "- partitionfile?"
   ]
  },
  {
   "cell_type": "markdown",
   "metadata": {},
   "source": [
    "IQTree is not available as a module on the cluster, but it is available as a module in Anaconda, and Anaconda is available on the cluster.\n",
    "\n",
    "[Anaconda (distribution):](https://www.anaconda.com/distribution/) is a package & environment manager; it installs (compiles) packages and their dependencies in a virtual environment. One time set-up."
   ]
  },
  {
   "cell_type": "markdown",
   "metadata": {},
   "source": [
    "## Set up Anaconda environment with iqtree"
   ]
  },
  {
   "cell_type": "markdown",
   "metadata": {},
   "source": [
    "### 1. Connect to the cluster using SSH"
   ]
  },
  {
   "cell_type": "markdown",
   "metadata": {},
   "source": [
    "```console\n",
    "(base) dhcp-168-105-208-186:bash_kernel cdoorenweerd$ ssh uhhpc\n",
    "Duo two-factor login for cdoorenw\n",
    "\n",
    "Enter a passcode or select one of the following options:\n",
    "\n",
    " 1. Duo Push to XXX-XXX-0694\n",
    " 2. Phone call to XXX-XXX-0694\n",
    " 3. SMS passcodes to XXX-XXX-0694\n",
    "\n",
    "Passcode or option (1-3): 1\n",
    "\n",
    "Pushed a login request to your device...\n",
    "Success. Logging you in...\n",
    "========================================================================\n",
    "Unauthorized access is prohibited by law in accordance with Chapter 708,\n",
    "Hawaii Revised Statutes; all use is subject to University of Hawaii\n",
    "Executive Policy E2.210.(http://go.hawaii.edu/JYj)\n",
    "========================================================================\n",
    "\n",
    "===================== ANNOUNCEMENTS=====================================\n",
    "\n",
    "New cluster information: https://www.hawaii.edu/its/ci/xcat\n",
    "FAQ: http://go.hawaii.edu/jdG\n",
    "Latest HPC-101 (Onboarding) slides: http://go.hawaii.edu/wL\n",
    "\n",
    "------------------------------------------------------------------------\n",
    "\n",
    "Up-to-date sample SLURM scripts: /mnt/config/examples\n",
    "The modules list has hidden modules.\n",
    "To view the full module list: module --show_hidden av\n",
    "\n",
    "========================================================================\n",
    "\n",
    "========================================================================\n",
    "Hostname: login002 \n",
    "Date    : Thu Sep 12 20:42:33 UTC 2019\n",
    "Uptime :  20:42:33 up 16:19, 12 users,  load average: 0.15, 0.19, 0.14\n",
    "\n",
    "========================================================================\n",
    "\n",
    "============================== USAGE ==================================\n",
    "\n",
    "PATH                                    QUOTA     USED      PCT USED\n",
    "/mnt/group/nfs_fs01/pep662_class        50G       512K      1%\n",
    "/home/cdoorenw                          50G       241M      1%\n",
    "/mnt/scratch/nfs_fs02/cdoorenw          5.0T      896K      1%\n",
    "\n",
    "========================================================================\n",
    "```"
   ]
  },
  {
   "cell_type": "markdown",
   "metadata": {},
   "source": [
    "### 2. Next, start an interactive session on the ```pep662``` or ```sandbox``` node"
   ]
  },
  {
   "cell_type": "markdown",
   "metadata": {},
   "source": [
    "```console\n",
    "[cdoorenw@login002 ~]$ srun -I --partition pep662 --account pep662_f2019 --cores 1 --mem=4gb --time 0-04:00:00 --pty /bin/bash\n",
    "```\n",
    "\n",
    "or\n",
    "\n",
    "```console\n",
    "[cdoorenw@login002 ~]$ srun -I --partition sandbox --cores 1 --mem=4gb --time 0-04:00:00 --pty /bin/bash\n",
    "```"
   ]
  },
  {
   "cell_type": "markdown",
   "metadata": {},
   "source": [
    "Note how the @ address changes from ```[cdoorenw@login002 ~]$ ``` to something like: ```[cdoorenw@node-0040 ~]$ ```"
   ]
  },
  {
   "cell_type": "markdown",
   "metadata": {},
   "source": [
    "### 3. Load the Anaconda module\n",
    "\n",
    "Check which modules are loaded with:\n",
    "\n",
    "```console\n",
    "[cdoorenw@node-0040 ~]$ module list\n",
    "```\n",
    "None are currently loaded. Load the Anaconda module with:\n",
    "\n",
    "```console\n",
    "[cdoorenw@node-0040 ~]$ module load lang/Anaconda3/5.1.0\n",
    "[cdoorenw@node-0040 ~]$ module list\n",
    "\n",
    "Currently Loaded Modules:\n",
    "  1) lang/Anaconda3/5.1.0\n",
    "```"
   ]
  },
  {
   "cell_type": "markdown",
   "metadata": {},
   "source": [
    "### 4. Create an environment with IQTREE\n",
    "\n",
    "[Conda environments documentation](https://docs.conda.io/projects/conda/en/latest/user-guide/tasks/manage-environments.html)\n",
    "\n",
    "See which environments are already installed:\n",
    "```console\n",
    "[cdoorenw@node-0040 ~]$ conda info --envs\n",
    "```\n",
    "\n",
    "Should be just the base. Create a new environment [with IQtree](https://anaconda.org/bioconda/iqtree)\n",
    "\n",
    "```console\n",
    "[cdoorenw@node-0040 ~]$ conda create --name iqtenv -c bioconda iqtree\n",
    "```\n",
    "\n",
    "Check the list again:\n",
    "\n",
    "```console\n",
    "[cdoorenw@node-0040 ~]$ conda info --envs\n",
    "# conda environments:\n",
    "#\n",
    "iqtenv                   /home/cdoorenw/.conda/envs/iqtenv\n",
    "base                  *  /opt/apps/software/lang/Anaconda3/5.1.0\n",
    "```\n",
    "\n",
    "All set! Exit the interactive srun with ```exit```"
   ]
  },
  {
   "cell_type": "markdown",
   "metadata": {},
   "source": [
    "# Prepare input files"
   ]
  },
  {
   "cell_type": "markdown",
   "metadata": {},
   "source": [
    "Now that our environment is set-up, we can prepare the input files. Use sftp (Filezilla or Cyberduck) to retrieve the input files from the ```pep662_class/class_shared``` folder on the cluster. Copy the folder to your local computer (e.g. to your desktop). Use a text editor to examine the input files and adjust them to your needs.\n",
    "\n",
    "When ready, use sftp to move the folder with input files to the ```nfs_fs02``` drive on the cluster."
   ]
  },
  {
   "cell_type": "markdown",
   "metadata": {},
   "source": [
    "# Starting a job\n",
    "\n",
    "ALWAYS START SLURM JOBS FROM WITHIN THE ```nfs_fs02``` FOLDER!!!\n",
    "\n",
    "Connect to the cluster using SSH. Navigate to the ```nfs_fs02``` subfolder that has the input files and start a batch submission\n",
    "\n",
    "```console\n",
    "[cdoorenw@login002 ~]$ sbatch <slurm script>\n",
    "```\n",
    "\n",
    "You can see the status of queue on our partition with:\n",
    "\n",
    "```console\n",
    "[cdoorenw@login002 ~]$ squeue -p pep662\n",
    "[cdoorenw@login002 ~]$ squeue -u pep662_f2019\n",
    "```"
   ]
  }
 ],
 "metadata": {
  "kernelspec": {
   "display_name": "Bash",
   "language": "bash",
   "name": "bash"
  },
  "language_info": {
   "codemirror_mode": "shell",
   "file_extension": ".sh",
   "mimetype": "text/x-sh",
   "name": "bash"
  }
 },
 "nbformat": 4,
 "nbformat_minor": 2
}
