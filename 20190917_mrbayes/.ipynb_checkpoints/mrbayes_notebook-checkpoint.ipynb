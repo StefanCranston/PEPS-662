{
 "cells": [
  {
   "cell_type": "markdown",
   "metadata": {},
   "source": [
    "# 20190917 Bayesian analysis with MrBayes on the UH cluster"
   ]
  },
  {
   "cell_type": "markdown",
   "metadata": {},
   "source": [
    "Consider: what are the key settings that will determine if your run will be successful? What does it mean to have a successful or a failing run?"
   ]
  },
  {
   "cell_type": "markdown",
   "metadata": {},
   "source": [
    "Files required:\n",
    "- Nexus formatted alignment\n",
    "- Slurm script"
   ]
  },
  {
   "cell_type": "markdown",
   "metadata": {},
   "source": [
    "[MrBayes](http://nbisweden.github.io/MrBayes/manual.html) is readily available as a module on the cluster, so we can simply load it in our slurm script and start an analysis. But first, prepare the input files and move them to the cluster."
   ]
  },
  {
   "cell_type": "markdown",
   "metadata": {},
   "source": [
    "# Prepare input files"
   ]
  },
  {
   "cell_type": "markdown",
   "metadata": {},
   "source": [
    "Now that our environment is set-up, we can prepare the input files. Use sftp (Filezilla or Cyberduck) to retrieve the input files from the ```pep662_class/class_shared``` folder on the cluster. Copy the folder to your local computer (e.g. to your desktop). Use a text editor to examine the input files and adjust them to your needs.\n",
    "\n",
    "When ready, use sftp to move the folder with input files to the ```nfs_fs02``` drive on the cluster."
   ]
  },
  {
   "cell_type": "markdown",
   "metadata": {},
   "source": [
    "# Starting a job\n",
    "\n",
    "ALWAYS START SLURM JOBS FROM WITHIN THE ```nfs_fs02``` FOLDER!!!\n",
    "\n",
    "Connect to the cluster using SSH. Navigate to the ```nfs_fs02``` subfolder that has the input files and start a batch submission\n",
    "\n",
    "```console\n",
    "[cdoorenw@login002 ~]$ sbatch <slurm script>\n",
    "```\n",
    "\n",
    "You can see the status of queue on our partition with:\n",
    "\n",
    "```console\n",
    "[cdoorenw@login002 ~]$ squeue -p pep662\n",
    "[cdoorenw@login002 ~]$ squeue -u pep662_f2019\n",
    "```"
   ]
  }
 ],
 "metadata": {
  "kernelspec": {
   "display_name": "Bash",
   "language": "bash",
   "name": "bash"
  },
  "language_info": {
   "codemirror_mode": "shell",
   "file_extension": ".sh",
   "mimetype": "text/x-sh",
   "name": "bash"
  }
 },
 "nbformat": 4,
 "nbformat_minor": 2
}
